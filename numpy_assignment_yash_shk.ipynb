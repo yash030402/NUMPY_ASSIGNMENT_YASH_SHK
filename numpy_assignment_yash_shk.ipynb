{
  "nbformat": 4,
  "nbformat_minor": 0,
  "metadata": {
    "colab": {
      "provenance": []
    },
    "kernelspec": {
      "name": "python3",
      "display_name": "Python 3"
    },
    "language_info": {
      "name": "python"
    }
  },
  "cells": [
    {
      "cell_type": "markdown",
      "source": [
        "**Theoretical Questions**"
      ],
      "metadata": {
        "id": "K83K0HGnROpe"
      }
    },
    {
      "cell_type": "markdown",
      "source": [
        "Q1 Explain the purpose and advantages of Numpy in scientific computing and data analysis. How does it\n",
        "enhance python's capabilities for numerical operations?"
      ],
      "metadata": {
        "id": "vQZQey_LRZ5c"
      }
    },
    {
      "cell_type": "markdown",
      "source": [
        "ANS) Numpy (Numerical python) is a fundamental library for scientific computing and data analysis in python. Here are some key purposes and advantages of using Numpy:\n",
        "\n",
        "purpose of Numpy\n",
        "\n",
        "1) Efficient Array Computations: Numpy provides support for large, multi-dimensional arrays and matrices, along with a collection of mathematical functions to operate on these arrays.\n",
        "\n",
        "2)Foundation for Other Libraries: Many other scientific computing and data analysis libraries, such as pandas, Scipy, and Matplotlib, are built on top of Numpy, making it a cornerstone of the scientific python ecosystem.\n",
        "\n",
        "Advantages of Numpy\n",
        "\n",
        "1) performance: Numpy is highly optimized for numerical operations. It uses pre-compiled C code, which makes array operations significantly faster than using python lists.\n",
        "\n",
        "2) Memory Efficiency: Numpy arrays consume less memory compared to python lists, which is crucial when working with large datasets.\n",
        "\n",
        "3)Vectorization: Numpy allows for vectorized operations, which means you can perform element-wise operations on arrays without the need for explicit loops. This not only makes the code more readable but also enhances performance.\n",
        "\n",
        "4)Broadcasting: This feature allows Numpy to handle arithmetic operations on arrays of different shapes in a flexible way, making it easier to write efficient code.\n",
        "\n",
        "5)Integration with Other Libraries: Numpy seamlessly integrates with other libraries used for data analysis and scientific computing, such as pandas for data manipulation, Scipy for advanced mathematical functions, and Matplotlib for plotting\n",
        "\n",
        "Enhancing python’s Capabilities\n",
        "\n",
        "1) Numerical Operations: Numpy enhances python’s capabilities by providing a powerful N-dimensional array object, which supports a wide range of mathematical operations, including linear algebra, Fourier transforms, and random number generation.\n",
        "\n",
        "2)Data Manipulation: With its array manipulation capabilities, Numpy makes it easier to clean, transform, and aggregate data, which is essential for data analysis.\n",
        "\n",
        "\n",
        "In summary, Numpy’s ability to handle extensive datasets, execute complex mathematical operations, and integrate with various scientific computing tools makes it an indispensable asset for researchers, data scientists, engineers, and analysts"
      ],
      "metadata": {
        "id": "AcUPD1BbR1DC"
      }
    },
    {
      "cell_type": "markdown",
      "source": [
        "Q2  Compare and contrast np.mean() and np.average() functions in Numpy. When would you use one over the\n",
        "other?"
      ],
      "metadata": {
        "id": "Ht7rzl6qTLcf"
      }
    },
    {
      "cell_type": "markdown",
      "source": [
        "ANS) Both np.mean() and np.average() functions in Numpy are used to calculate the average of an array, but they have some differences in functionality and use cases.\n",
        "\n",
        "np.mean()\n",
        "\n",
        "- purpose: Calculates the arithmetic mean (average) of the elements in an array.\n",
        "\n",
        "- Syntax: np.mean(arr, axis=None)\n",
        "\n",
        "- Weights: Does not support weights; all elements are considered equally.\n",
        "\n",
        "- Use Case: Use np.mean() when you need a simple arithmetic mean without considering any weights.\n",
        "\n",
        "np.average()\n",
        "\n",
        "- purpose: Calculates the weighted average of the elements in an array.\n",
        "\n",
        "-Syntax: np.average(arr, axis=None, weights=None)\n",
        "\n",
        "- Weights: Supports weights; you can pass an array of weights to compute a weighted average.\n",
        "\n",
        "- Use Case: Use np.average() when you need to calculate a weighted average, where different elements contribute differently to the final average.\n",
        "\n",
        "Example\n",
        "Here’s a quick example to illustrate the difference:"
      ],
      "metadata": {
        "id": "p9J5ya3lTQki"
      }
    },
    {
      "cell_type": "code",
      "source": [
        "import numpy as np\n",
        "\n",
        "arr = np.array([1, 2, 3, 4, 5])\n",
        "weights = np.array([1, 2, 3, 4, 5])\n",
        "\n",
        "# Using np.mean()\n",
        "mean_value = np.mean(arr)\n",
        "print(\"Mean:\", mean_value)\n",
        "\n",
        "average_value = np.average(arr)\n",
        "print(\"Average without weights:\", average_value)\n",
        "\n",
        "# Using np.average() with weights\n",
        "weighted_average_value = np.average(arr, weights=weights)\n",
        "print(\"Weighted Average:\", weighted_average_value)"
      ],
      "metadata": {
        "colab": {
          "base_uri": "https://localhost:8080/"
        },
        "id": "BF5-WDj7UV61",
        "outputId": "593003be-dd82-48db-f041-8b4dc6118950"
      },
      "execution_count": null,
      "outputs": [
        {
          "output_type": "stream",
          "name": "stdout",
          "text": [
            "Mean: 3.0\n",
            "Average without weights: 3.0\n",
            "Weighted Average: 3.6666666666666665\n"
          ]
        }
      ]
    },
    {
      "cell_type": "markdown",
      "source": [
        "When to Use Which\n",
        "\n",
        "- Use np.mean(): When you need a straightforward arithmetic mean and do not need to consider different weights for the elements.\n",
        "\n",
        "- Use np.average(): When you need to calculate a weighted average, where some elements have more significance than others.\n",
        "\n",
        "- In summary, while both functions can calculate the arithmetic mean, np.average() provides additional flexibility with its ability to handle weights"
      ],
      "metadata": {
        "id": "pOo_rHHuUe3N"
      }
    },
    {
      "cell_type": "markdown",
      "source": [
        "Q3\n",
        "Describe the methods for reversing a Numpy array along different axes. provide examples for 1D and 2D\n",
        "arrays?"
      ],
      "metadata": {
        "id": "LqzgSrWGwsEh"
      }
    },
    {
      "cell_type": "markdown",
      "source": [
        "ANS) Reversing a Numpy array along different axes can be done using several methods.\n",
        "1. Using np.flip()\n",
        "The np.flip() function reverses the order of elements in an array along the specified axis.\n",
        "\n",
        "Example for 1D Array:"
      ],
      "metadata": {
        "id": "H4-JvRKVxFph"
      }
    },
    {
      "cell_type": "code",
      "source": [
        "import numpy as np\n",
        "\n",
        "# 1D array\n",
        "arr_1d = np.array([1, 2, 3, 4, 5])\n",
        "reversed_1d = np.flip(arr_1d)\n",
        "\n",
        "print(\"Original 1D array:\", arr_1d)\n",
        "print(\"Reversed 1D array:\", reversed_1d)"
      ],
      "metadata": {
        "colab": {
          "base_uri": "https://localhost:8080/"
        },
        "id": "bpH663A8xLj5",
        "outputId": "0429f8fb-ecd0-4461-f098-073729e0bc7d"
      },
      "execution_count": null,
      "outputs": [
        {
          "output_type": "stream",
          "name": "stdout",
          "text": [
            "Original 1D array: [1 2 3 4 5]\n",
            "Reversed 1D array: [5 4 3 2 1]\n"
          ]
        }
      ]
    },
    {
      "cell_type": "code",
      "source": [
        "#Example for 2D Array:\n",
        "import numpy as np\n",
        "\n",
        "# 2D array\n",
        "arr_2d = np.array([[1, 2, 3], [4, 5, 6], [7, 8, 9]])\n",
        "reversed_rows = np.flip(arr_2d, axis=0)  # Reverse along rows\n",
        "reversed_cols = np.flip(arr_2d, axis=1)  # Reverse along columns\n",
        "\n",
        "print(\"Original 2D array:\\n\", arr_2d)\n",
        "print(\"Reversed along rows:\\n\", reversed_rows)\n",
        "print(\"Reversed along columns:\\n\", reversed_cols)"
      ],
      "metadata": {
        "colab": {
          "base_uri": "https://localhost:8080/"
        },
        "id": "zcSt38FpxOVZ",
        "outputId": "62ba87af-9376-4ffa-bc7d-659a4f1e396c"
      },
      "execution_count": null,
      "outputs": [
        {
          "output_type": "stream",
          "name": "stdout",
          "text": [
            "Original 2D array:\n",
            " [[1 2 3]\n",
            " [4 5 6]\n",
            " [7 8 9]]\n",
            "Reversed along rows:\n",
            " [[7 8 9]\n",
            " [4 5 6]\n",
            " [1 2 3]]\n",
            "Reversed along columns:\n",
            " [[3 2 1]\n",
            " [6 5 4]\n",
            " [9 8 7]]\n"
          ]
        }
      ]
    },
    {
      "cell_type": "markdown",
      "source": [
        "2. Using Array Slicing\n",
        "Array slicing can also be used to reverse arrays.\n",
        "\n",
        "Example for 1D Array:"
      ],
      "metadata": {
        "id": "TVDLc5XlxjF9"
      }
    },
    {
      "cell_type": "code",
      "source": [
        "import numpy as np\n",
        "\n",
        "# 1D array\n",
        "arr_1d = np.array([1, 2, 3, 4, 5])\n",
        "reversed_1d = arr_1d[::-1]\n",
        "\n",
        "print(\"Original 1D array:\", arr_1d)\n",
        "print(\"Reversed 1D array:\", reversed_1d)"
      ],
      "metadata": {
        "colab": {
          "base_uri": "https://localhost:8080/"
        },
        "id": "neJWr1MRxj3K",
        "outputId": "623df9a9-5988-4d7a-8d44-a815f788a8df"
      },
      "execution_count": null,
      "outputs": [
        {
          "output_type": "stream",
          "name": "stdout",
          "text": [
            "Original 1D array: [1 2 3 4 5]\n",
            "Reversed 1D array: [5 4 3 2 1]\n"
          ]
        }
      ]
    },
    {
      "cell_type": "code",
      "source": [
        "#Example for 2D Array:\n",
        "import numpy as np\n",
        "\n",
        "# 2D array\n",
        "arr_2d = np.array([[1, 2, 3], [4, 5, 6], [7, 8, 9]])\n",
        "reversed_rows = arr_2d[::-1, :]  # Reverse along rows\n",
        "reversed_cols = arr_2d[:, ::-1]  # Reverse along columns\n",
        "\n",
        "print(\"Original 2D array:\\n\", arr_2d)\n",
        "print(\"Reversed along rows:\\n\", reversed_rows)\n",
        "print(\"Reversed along columns:\\n\", reversed_cols)"
      ],
      "metadata": {
        "colab": {
          "base_uri": "https://localhost:8080/"
        },
        "id": "DfCYxPpjxmjd",
        "outputId": "804a55cf-e62c-422b-cb15-7ba97d806ae5"
      },
      "execution_count": null,
      "outputs": [
        {
          "output_type": "stream",
          "name": "stdout",
          "text": [
            "Original 2D array:\n",
            " [[1 2 3]\n",
            " [4 5 6]\n",
            " [7 8 9]]\n",
            "Reversed along rows:\n",
            " [[7 8 9]\n",
            " [4 5 6]\n",
            " [1 2 3]]\n",
            "Reversed along columns:\n",
            " [[3 2 1]\n",
            " [6 5 4]\n",
            " [9 8 7]]\n"
          ]
        }
      ]
    },
    {
      "cell_type": "markdown",
      "source": [
        "Q4  How can you determine the data type of elements in a Numpy array? Discuss the importance of data types\n",
        "in memory management and performance."
      ],
      "metadata": {
        "id": "Y_yGDPn7yOzL"
      }
    },
    {
      "cell_type": "markdown",
      "source": [
        "ANS) To determine the data type of elements in a Numpy array, you can use the dtype attribute. This attribute provides information about the type of elements stored in the array.\n",
        "\n",
        "Example:"
      ],
      "metadata": {
        "id": "6qCkyQ4CyvTM"
      }
    },
    {
      "cell_type": "code",
      "source": [
        "import numpy as np\n",
        "\n",
        "# Creating a Numpy array\n",
        "arr = np.array([1, 2, 3, 4, 5])\n",
        "\n",
        "# Checking the data type of the array elements\n",
        "print(\"Data type of array elements:\", arr.dtype)"
      ],
      "metadata": {
        "colab": {
          "base_uri": "https://localhost:8080/"
        },
        "id": "JOQAaUmiy67l",
        "outputId": "5422e074-ba9b-4323-e214-c9725288e93d"
      },
      "execution_count": null,
      "outputs": [
        {
          "output_type": "stream",
          "name": "stdout",
          "text": [
            "Data type of array elements: int64\n"
          ]
        }
      ]
    },
    {
      "cell_type": "markdown",
      "source": [
        "Importance of Data Types in Memory Management and performance\n",
        "\n",
        "1) Memory Efficiency:\n",
        "- Memory Allocation: Different data types require different amounts of memory. For example, an int32 type uses 4 bytes, while an int64 type uses 8 bytes. Choosing the appropriate data type can save memory, especially when dealing with large datasets.\n",
        "\n",
        "- Compact Storage: Using the smallest possible data type that can accurately represent your data helps in reducing the overall memory footprint"
      ],
      "metadata": {
        "id": "H9SbMOB4zCUr"
      }
    },
    {
      "cell_type": "markdown",
      "source": [
        "2) performance:\n",
        "\n",
        "- Speed of Operations: Operations on smaller data types are generally faster because they require less memory bandwidth and can be processed more quickly by the CpU.\n",
        "- Vectorized Operations: Numpy is optimized for vectorized operations, which means it can perform operations on entire arrays at once. The efficiency of these operations can be significantly affected by the data type of the array elements"
      ],
      "metadata": {
        "id": "JFd-WWVJzRmh"
      }
    },
    {
      "cell_type": "markdown",
      "source": [
        "3) Data Integrity:\n",
        "\n",
        "- Type Safety: Ensuring that data is stored in the correct type helps prevent errors. For example, storing a floating-point number in an integer array can lead to loss of precision.\n",
        "\n",
        "- Consistency: Using consistent data types across arrays ensures that operations between arrays are performed correctly and efficiently.\n",
        "\n",
        "4) Interoperability:\n",
        "\n",
        "- Compatibility with Other Libraries: Many scientific computing libraries expect data in specific formats. Using the correct data types ensures compatibility and efficient data exchange between libraries.\n",
        "\n",
        "- Understanding and choosing the right data types is crucial for optimizing both memory usage and computational performance in your applications"
      ],
      "metadata": {
        "id": "mAHw1YdozgWf"
      }
    },
    {
      "cell_type": "markdown",
      "source": [
        "Q5 Define ndarrays in Numpy and explain their key features. How do they differ from standard python lists?"
      ],
      "metadata": {
        "id": "TNBHaQSG0dm9"
      }
    },
    {
      "cell_type": "markdown",
      "source": [
        "ANS) Numpy is a powerful library in python used for numerical computations. At its core is the ndarray (N-dimensional array), which is a table of elements (usually numbers), all of the same type, indexed by a tuple of positive integers.\n",
        "\n",
        "**Key Features of ndarray:**\n",
        "\n",
        "1) Multi-Dimensional Arrays: ndarray supports arrays of arbitrary dimensions, making it ideal for handling large datasets, images, and other types of numerical data.\n",
        "\n",
        "2) Homogeneous Data: All elements in an ndarray must be of the same data type, ensuring efficient memory usage and performance.\n",
        "\n",
        "3) Fixed Size: Once created, the size of an ndarray cannot be changed. Any resizing operation will create a new array.\n",
        "\n",
        "4) Vectorized Operations: Numpy allows for element-wise operations on arrays without the need for explicit loops, making computations faster and more concise.\n",
        "\n",
        "5) Broadcasting: This feature allows Numpy to perform operations on arrays of different shapes by automatically expanding their dimensions to match each other.\n",
        "\n",
        "6) Advanced Indexing and Slicing: Numpy provides powerful tools for accessing and manipulating array elements.\n",
        "\n",
        "**Differences from Standard python Lists:**\n",
        "\n",
        "1) Performance: ndarray operations are generally faster than equivalent operations on python lists due to optimized C implementations and contiguous memory storage.\n",
        "\n",
        "2) Memory Efficiency: ndarray uses less memory compared to lists because it stores elements of the same type in a contiguous block of memory.\n",
        "\n",
        "3) Fixed Size: Unlike lists, which can grow dynamically, ndarray has a fixed size. Changing the size of an ndarray creates a new array.\n",
        "\n",
        "4) Homogeneous Elements: All elements in an ndarray must be of the same type, whereas lists can contain elements of different types.\n",
        "\n",
        "5) Vectorized Operations: Numpy supports vectorized operations, allowing for efficient and concise mathematical computations, which is not possible with standard lists.\n",
        "\n",
        "Here’s a simple example to illustrate some of these features:"
      ],
      "metadata": {
        "id": "5hWub39h0l8b"
      }
    },
    {
      "cell_type": "code",
      "source": [
        "import numpy as np\n",
        "\n",
        "# Creating a 2D ndarray\n",
        "arr = np.array([[1, 2, 3], [4, 5, 6]])\n",
        "\n",
        "# Accessing elements\n",
        "print(arr[0, 0])\n",
        "\n",
        "# Broadcasting example\n",
        "arr2 = np.array([1, 2, 3])\n",
        "result = arr + arr2\n",
        "print(result)"
      ],
      "metadata": {
        "colab": {
          "base_uri": "https://localhost:8080/"
        },
        "id": "XSBtzswfwXka",
        "outputId": "188fb3ab-2ec0-4a79-81e5-64f82cae08b5"
      },
      "execution_count": null,
      "outputs": [
        {
          "output_type": "stream",
          "name": "stdout",
          "text": [
            "1\n",
            "[[2 4 6]\n",
            " [5 7 9]]\n"
          ]
        }
      ]
    },
    {
      "cell_type": "markdown",
      "source": [
        "Q6  Analyze the performance benefits of NumPy arrays over Python lists for large-scale numerical operations?"
      ],
      "metadata": {
        "id": "JiUlEvZdw6Wq"
      }
    },
    {
      "cell_type": "markdown",
      "source": [
        "ANS) NumPy arrays offer significant performance benefits over Python lists, especially for large-scale numerical operations. Here are some key reasons why:\n",
        "\n",
        "1. Memory Efficiency\n",
        "\n",
        "- Contiguous Memory Allocation: NumPy arrays store elements in contiguous memory blocks, which reduces memory overhead and improves cache performance.\n",
        "\n",
        "- Homogeneous Data: All elements in a NumPy array are of the same type, which allows for more efficient memory usage compared to Python lists that can store elements of different types.\n",
        "\n",
        "2. Speed\n",
        "- Vectorized Operations: NumPy supports vectorized operations, which means operations are applied to entire arrays at once without the need for explicit loops. This is much faster than iterating through elements in a Python list.\n",
        "\n",
        "- Optimized C Implementation: NumPy operations are implemented in C, which is a lower-level and faster language than Python. This results in significant speed improvements for numerical computations.\n",
        "\n",
        "3. Broadcasting\n",
        "- Automatic Dimension Expansion: NumPy’s broadcasting feature allows it to perform operations on arrays of different shapes by automatically expanding their dimensions to match each other. This eliminates the need for manual resizing and looping.\n",
        "\n",
        "4. Advanced Mathematical Functions\n",
        "- Rich Functionality: NumPy provides a wide range of mathematical and statistical functions that are optimized for performance. These functions are not available in standard Python lists.\n",
        "\n",
        "**Performance Comparison Example**\n",
        "\n",
        "Here’s a simple example to illustrate the performance difference between NumPy arrays and Python lists:"
      ],
      "metadata": {
        "id": "LeuuKsjsxFQb"
      }
    },
    {
      "cell_type": "code",
      "source": [
        "import numpy as np\n",
        "import time\n",
        "\n",
        "# Creating large arrays and lists\n",
        "size = 1000000\n",
        "list1 = list(range(size))\n",
        "list2 = list(range(size))\n",
        "array1 = np.arange(size)\n",
        "array2 = np.arange(size)\n",
        "\n",
        "# Timing list addition\n",
        "start_time = time.time()\n",
        "result_list = [x + y for x, y in zip(list1, list2)]\n",
        "print(\"List addition took:\", time.time() - start_time, \"seconds\")\n",
        "\n",
        "# Timing NumPy array addition\n",
        "start_time = time.time()\n",
        "result_array = array1 + array2\n",
        "print(\"NumPy array addition took:\", time.time() - start_time, \"seconds\")"
      ],
      "metadata": {
        "colab": {
          "base_uri": "https://localhost:8080/"
        },
        "id": "ms3CzpbtxsVe",
        "outputId": "8617493a-3463-422d-e8d0-2cf444df501b"
      },
      "execution_count": null,
      "outputs": [
        {
          "output_type": "stream",
          "name": "stdout",
          "text": [
            "List addition took: 0.2373485565185547 seconds\n",
            "NumPy array addition took: 0.00761103630065918 seconds\n"
          ]
        }
      ]
    },
    {
      "cell_type": "markdown",
      "source": [
        "- In this example, you’ll typically find that the NumPy array addition is significantly faster than the list addition due to the reasons mentioned above."
      ],
      "metadata": {
        "id": "b89FDZePx6wR"
      }
    },
    {
      "cell_type": "markdown",
      "source": [
        "Q7  Compare vstack() and hstack() functions in NumPy. Provide examples demonstrating their usage and\n",
        "output?"
      ],
      "metadata": {
        "id": "5AI53vHUyAGA"
      }
    },
    {
      "cell_type": "markdown",
      "source": [
        "ANS) The vstack() and hstack() functions in NumPy are used to stack arrays in different orientations. Here’s a comparison of the two:\n",
        "\n",
        "**vstack()**\n",
        "\n",
        "- Purpose: Stacks arrays in sequence vertically (row-wise).\n",
        "\n",
        "- Axis: Equivalent to concatenation along the first axis (axis=0).\n",
        "\n",
        "- Usage: Useful for adding rows to an array.\n",
        "\n",
        "**hstack()**\n",
        "\n",
        "- Purpose: Stacks arrays in sequence horizontally (column-wise).\n",
        "\n",
        "- Axis: Equivalent to concatenation along the second axis (axis=1).\n",
        "\n",
        "- Usage: Useful for adding columns to an array.\n",
        "\n",
        "\n",
        "**Examples**\n",
        "\n",
        "**vstack()**"
      ],
      "metadata": {
        "id": "1Nfn28lVyTMt"
      }
    },
    {
      "cell_type": "code",
      "source": [
        "import numpy as np\n",
        "\n",
        "# Creating two 1D arrays\n",
        "a = np.array([1, 2, 3])\n",
        "b = np.array([4, 5, 6])\n",
        "\n",
        "# Stacking them vertically\n",
        "result_vstack = np.vstack((a, b))\n",
        "print(result_vstack)"
      ],
      "metadata": {
        "colab": {
          "base_uri": "https://localhost:8080/"
        },
        "id": "E3xOIcyhyh1N",
        "outputId": "3480bd35-09e0-44ad-fac8-9a61fb290e60"
      },
      "execution_count": null,
      "outputs": [
        {
          "output_type": "stream",
          "name": "stdout",
          "text": [
            "[[1 2 3]\n",
            " [4 5 6]]\n"
          ]
        }
      ]
    },
    {
      "cell_type": "code",
      "source": [
        "#hstack()\n",
        "import numpy as np\n",
        "\n",
        "# Creating two 2D arrays\n",
        "a = np.array([[1], [2], [3]])\n",
        "b = np.array([[4], [5], [6]])\n",
        "\n",
        "# Stacking them horizontally\n",
        "result_hstack = np.hstack((a, b))\n",
        "print(result_hstack)"
      ],
      "metadata": {
        "colab": {
          "base_uri": "https://localhost:8080/"
        },
        "id": "lO31zh-uzDJV",
        "outputId": "cbecac68-9d3f-452b-ede4-be421f66fbcd"
      },
      "execution_count": null,
      "outputs": [
        {
          "output_type": "stream",
          "name": "stdout",
          "text": [
            "[[1 4]\n",
            " [2 5]\n",
            " [3 6]]\n"
          ]
        }
      ]
    },
    {
      "cell_type": "markdown",
      "source": [
        "**Key Differences**\n",
        "\n",
        "- Orientation: vstack() stacks arrays vertically, adding rows, while hstack() stacks arrays horizontally, adding columns.\n",
        "\n",
        "- Axis: vstack() operates along the first axis (axis=0), whereas hstack() operates along the second axis (axis=1)."
      ],
      "metadata": {
        "id": "z5jMIM-ezU5c"
      }
    },
    {
      "cell_type": "markdown",
      "source": [
        "Q8 . Explain the differences between fliplr() and flipud() methods in NumPy, including their effects on various\n",
        "array dimensions?"
      ],
      "metadata": {
        "id": "tSOJfGB1zk__"
      }
    },
    {
      "cell_type": "markdown",
      "source": [
        "ANS. The fliplr() and flipud() functions in NumPy are used to flip arrays, but they do so in different directions. Here’s a detailed comparison:\n",
        "\n",
        "**fliplr()**\n",
        "\n",
        "- Purpose: Flips the array in the left/right direction (horizontally).\n",
        "\n",
        "- Axis: Operates along the second axis (axis=1).\n",
        "\n",
        "- Effect: Reverses the order of columns while preserving the rows.\n",
        "\n",
        "**flipud()**\n",
        "\n",
        "- Purpose: Flips the array in the up/down direction (vertically).\n",
        "\n",
        "- Axis: Operates along the first axis (axis=0).\n",
        "\n",
        "- Effect: Reverses the order of rows while preserving the columns.\n",
        "\n",
        "**Examples**\n",
        "\n",
        "fliplr()\n"
      ],
      "metadata": {
        "id": "ABbNUDK5zzix"
      }
    },
    {
      "cell_type": "code",
      "source": [
        "import numpy as np\n",
        "\n",
        "# Creating a 2D array\n",
        "a = np.array([[1, 2, 3], [4, 5, 6], [7, 8, 9]])\n",
        "\n",
        "# Flipping the array horizontally\n",
        "result_fliplr = np.fliplr(a)\n",
        "print(result_fliplr)"
      ],
      "metadata": {
        "colab": {
          "base_uri": "https://localhost:8080/"
        },
        "id": "V_hHEBZW0LyH",
        "outputId": "952f54a0-3541-44c6-9d70-602b7127c2a3"
      },
      "execution_count": null,
      "outputs": [
        {
          "output_type": "stream",
          "name": "stdout",
          "text": [
            "[[3 2 1]\n",
            " [6 5 4]\n",
            " [9 8 7]]\n"
          ]
        }
      ]
    },
    {
      "cell_type": "markdown",
      "source": [
        "- In this example, the columns of the array are reversed."
      ],
      "metadata": {
        "id": "1m78jKKR0WQC"
      }
    },
    {
      "cell_type": "code",
      "source": [
        "import numpy as np\n",
        "\n",
        "# Creating a 2D array\n",
        "a = np.array([[1, 2, 3], [4, 5, 6], [7, 8, 9]])\n",
        "\n",
        "# Flipping the array vertically\n",
        "result_flipud = np.flipud(a)\n",
        "print(result_flipud)"
      ],
      "metadata": {
        "colab": {
          "base_uri": "https://localhost:8080/"
        },
        "id": "Bh5KAW0Z0YBU",
        "outputId": "567aa68d-6662-4eeb-b6e3-3473d67f1152"
      },
      "execution_count": null,
      "outputs": [
        {
          "output_type": "stream",
          "name": "stdout",
          "text": [
            "[[7 8 9]\n",
            " [4 5 6]\n",
            " [1 2 3]]\n"
          ]
        }
      ]
    },
    {
      "cell_type": "markdown",
      "source": [
        "- In this example, the rows of the array are reversed."
      ],
      "metadata": {
        "id": "fTgI6BP40j_E"
      }
    },
    {
      "cell_type": "markdown",
      "source": [
        "**Key Differences**\n",
        "\n",
        "- Direction of Flip: fliplr() flips the array horizontally (left to right), while flipud() flips it vertically (up to down).\n",
        "\n",
        "- Axis of Operation: fliplr() operates along axis=1, whereas flipud() operates along axis=0.\n",
        "\n",
        "**These functions are particularly useful for image processing, data manipulation, and other applications where the orientation of data matters.**"
      ],
      "metadata": {
        "id": "TrVh_AZS0qHI"
      }
    },
    {
      "cell_type": "markdown",
      "source": [
        "Q9 Discuss the functionality of the array_split() method in NumPy. How does it handle uneven splits?"
      ],
      "metadata": {
        "id": "FIW0q07Z07BQ"
      }
    },
    {
      "cell_type": "markdown",
      "source": [
        "ANS. The array_split() method in NumPy is used to split an array into multiple sub-arrays. It is particularly useful when you need to split an array into sections that may not be of equal size.\n",
        "\n",
        "**Functionality**\n",
        "\n",
        "- Syntax: numpy.array_split(ary, indices_or_sections, axis=0)\n",
        "\n",
        "- ary: The input array to be split.\n",
        "\n",
        "- indices_or_sections: If an integer, it indicates the number of equal or nearly equal sub-arrays to create. If a 1-D array of sorted integers, it specifies the indices at which to split.\n",
        "\n",
        "- axis: The axis along which to split the array. Default is 0.\n",
        "\n",
        "**Handling Uneven Splits**\n",
        "When the array cannot be evenly divided by the specified number of splits, array_split() ensures that the resulting sub-arrays are as equal in size as possible. It does this by distributing the remainder elements across the sub-arrays.\n",
        "\n",
        "- For example, if you have an array of length 9 and you want to split it into 4 parts, array_split() will create sub-arrays of sizes 3, 2, 2, and 2.\n",
        "\n",
        "**Examples**\n",
        "\n",
        "Example 1: Splitting into Equal Parts"
      ],
      "metadata": {
        "id": "qkgieLRh1JHH"
      }
    },
    {
      "cell_type": "code",
      "source": [
        "import numpy as np\n",
        "\n",
        "# Creating an array\n",
        "arr = np.arange(8)\n",
        "\n",
        "# Splitting into 3 parts\n",
        "result = np.array_split(arr, 3)\n",
        "print(result)"
      ],
      "metadata": {
        "colab": {
          "base_uri": "https://localhost:8080/"
        },
        "id": "bW-Qqywz1lKD",
        "outputId": "9fe8ef80-eef7-4037-aaef-2f25142c9379"
      },
      "execution_count": null,
      "outputs": [
        {
          "output_type": "stream",
          "name": "stdout",
          "text": [
            "[array([0, 1, 2]), array([3, 4, 5]), array([6, 7])]\n"
          ]
        }
      ]
    },
    {
      "cell_type": "markdown",
      "source": [
        "Example 2: Handling Uneven Splits"
      ],
      "metadata": {
        "id": "p3zRYBL21zpJ"
      }
    },
    {
      "cell_type": "code",
      "source": [
        "import numpy as np\n",
        "\n",
        "# Creating an array\n",
        "arr = np.arange(9)\n",
        "\n",
        "# Splitting into 4 parts\n",
        "result = np.array_split(arr, 4)\n",
        "print(result)"
      ],
      "metadata": {
        "colab": {
          "base_uri": "https://localhost:8080/"
        },
        "id": "257TNIMb1028",
        "outputId": "fecb0251-db18-4f98-85db-094bb17b6afc"
      },
      "execution_count": null,
      "outputs": [
        {
          "output_type": "stream",
          "name": "stdout",
          "text": [
            "[array([0, 1, 2]), array([3, 4]), array([5, 6]), array([7, 8])]\n"
          ]
        }
      ]
    },
    {
      "cell_type": "markdown",
      "source": [
        "In this example, the array of length 9 is split into 4 parts, with the sizes of the sub-arrays being as equal as possible."
      ],
      "metadata": {
        "id": "vSIPje-02AuY"
      }
    },
    {
      "cell_type": "markdown",
      "source": [
        "Q10 Explain the concepts of vectorization and broadcasting in NumPy. How do they contribute to efficient array\n",
        "operations?\n"
      ],
      "metadata": {
        "id": "gObdaQzj2E1X"
      }
    },
    {
      "cell_type": "markdown",
      "source": [
        "ANS. **Vectorization**\n",
        "\n",
        "Vectorization in NumPy refers to the process of performing operations on entire arrays without the need for explicit loops. This is achieved by applying operations element-wise across arrays, leveraging low-level optimizations in C and Fortran.\n",
        "\n",
        "**Benefits:**\n",
        "\n",
        "1. Speed: Vectorized operations are significantly faster than equivalent operations using Python loops because they are executed in compiled code.\n",
        "\n",
        "2. Readability: Code that uses vectorized operations is often more concise and easier to read.\n",
        "\n",
        "3. Efficiency: Vectorization reduces the overhead of Python’s interpreted loops, leading to more efficient use of CPU resources.\n",
        "\n",
        "**Example of Vectorization:**"
      ],
      "metadata": {
        "id": "PZ1NuX-s2QCC"
      }
    },
    {
      "cell_type": "code",
      "source": [
        "import numpy as np\n",
        "\n",
        "# Creating two arrays\n",
        "a = np.array([1, 2, 3])\n",
        "b = np.array([4, 5, 6])\n",
        "\n",
        "# Vectorized addition\n",
        "result = a + b\n",
        "print(result)"
      ],
      "metadata": {
        "colab": {
          "base_uri": "https://localhost:8080/"
        },
        "id": "BQJiu1TX2kVv",
        "outputId": "f28c3eea-180c-4706-f97c-5e192ace383e"
      },
      "execution_count": null,
      "outputs": [
        {
          "output_type": "stream",
          "name": "stdout",
          "text": [
            "[5 7 9]\n"
          ]
        }
      ]
    },
    {
      "cell_type": "markdown",
      "source": [
        "**Broadcasting**\n",
        "\n",
        "Broadcasting describes how NumPy handles arrays with different shapes during arithmetic operations. It allows NumPy to perform element-wise operations on arrays of different shapes by automatically expanding their dimensions to match each other.\n",
        "\n",
        "\n",
        "**Rules of Broadcasting:**\n",
        "\n",
        "1. Trailing Dimensions: NumPy compares arrays element-wise starting from the trailing dimensions.\n",
        "\n",
        "2. Dimension Compatibility: Two dimensions are compatible if they are equal or if one of them is 1.\n",
        "\n",
        "3. Expansion: If one array has fewer dimensions, it is expanded by adding new axes of size 1 at the beginning.\n",
        "\n",
        "**Example of Broadcasting:**"
      ],
      "metadata": {
        "id": "G45yrkyZ2tu2"
      }
    },
    {
      "cell_type": "code",
      "source": [
        "import numpy as np\n",
        "\n",
        "# Creating a 2D array and a 1D array\n",
        "a = np.array([[1, 2, 3], [4, 5, 6]])\n",
        "b = np.array([1, 2, 3])\n",
        "\n",
        "# Broadcasting addition\n",
        "result = a + b\n",
        "print(result)"
      ],
      "metadata": {
        "colab": {
          "base_uri": "https://localhost:8080/"
        },
        "id": "2Ajdmv1E3K_U",
        "outputId": "c717d70c-dac6-48e9-cec5-033f9a1c537a"
      },
      "execution_count": null,
      "outputs": [
        {
          "output_type": "stream",
          "name": "stdout",
          "text": [
            "[[2 4 6]\n",
            " [5 7 9]]\n"
          ]
        }
      ]
    },
    {
      "cell_type": "markdown",
      "source": [
        "In this example, the 1D array b is broadcasted to match the shape of the 2D array a"
      ],
      "metadata": {
        "id": "1IJF0a_N3SL4"
      }
    },
    {
      "cell_type": "markdown",
      "source": [
        "**Contribution to Efficient Array Operations:**\n",
        "\n",
        "1. Reduced Memory Usage: Broadcasting avoids the need to create large intermediate arrays, saving memory.\n",
        "\n",
        "2. Faster Computations: Both vectorization and broadcasting allow operations to be executed in compiled code, which is much faster than interpreted Python code.\n",
        "\n",
        "3. Simplified Code: These techniques lead to more concise and readable code, reducing the likelihood of errors."
      ],
      "metadata": {
        "id": "TxCFz1qI3XVZ"
      }
    },
    {
      "cell_type": "markdown",
      "source": [
        "**PRACTICAL QUESTIONS**"
      ],
      "metadata": {
        "id": "uU8lJgfT33W6"
      }
    },
    {
      "cell_type": "markdown",
      "source": [
        "Q1 Create a 3x3 NumPy array with random integers between 1 and 100. Then, interchange its rows and columns?"
      ],
      "metadata": {
        "id": "lSO8ffsB4Zoc"
      }
    },
    {
      "cell_type": "code",
      "source": [
        "import numpy as np\n",
        "\n",
        "# Creating a 3x3 array with random integers between 1 and 100\n",
        "array = np.random.randint(1, 101, size=(3, 3))\n",
        "print(\"Original array:\\n\", array)\n",
        "\n",
        "# Interchanging rows and columns (transposing the array)\n",
        "transposed_array = np.transpose(array)\n",
        "print(\"Transposed array:\\n\", transposed_array)"
      ],
      "metadata": {
        "colab": {
          "base_uri": "https://localhost:8080/"
        },
        "id": "ttf5anD74azz",
        "outputId": "ca023545-222d-413b-b2ad-b96d0b4f885d"
      },
      "execution_count": null,
      "outputs": [
        {
          "output_type": "stream",
          "name": "stdout",
          "text": [
            "Original array:\n",
            " [[ 1 54 90]\n",
            " [79 60 20]\n",
            " [53 90 21]]\n",
            "Transposed array:\n",
            " [[ 1 79 53]\n",
            " [54 60 90]\n",
            " [90 20 21]]\n"
          ]
        }
      ]
    },
    {
      "cell_type": "markdown",
      "source": [
        "Q2  Generate a 1D NumPy array with 10 elements. Reshape it into a 2x5 array, then into a 5x2 array?"
      ],
      "metadata": {
        "id": "Suf3fIZG92JB"
      }
    },
    {
      "cell_type": "code",
      "source": [
        "import numpy as np\n",
        "\n",
        "# Creating a 1D array with 10 elements\n",
        "array_1d = np.arange(10)\n",
        "print(\"Original 1D array:\\n\", array_1d)\n",
        "\n",
        "# Reshaping into a 2x5 array\n",
        "array_2x5 = array_1d.reshape(2, 5)\n",
        "print(\"Reshaped into 2x5 array:\\n\", array_2x5)\n",
        "\n",
        "# Reshaping into a 5x2 array\n",
        "array_5x2 = array_2x5.reshape(5, 2)\n",
        "print(\"Reshaped into 5x2 array:\\n\", array_5x2)"
      ],
      "metadata": {
        "colab": {
          "base_uri": "https://localhost:8080/"
        },
        "id": "ccomBRIY483L",
        "outputId": "68b887d0-45e4-4e9d-d4e9-d02750dcfe99"
      },
      "execution_count": null,
      "outputs": [
        {
          "output_type": "stream",
          "name": "stdout",
          "text": [
            "Original 1D array:\n",
            " [0 1 2 3 4 5 6 7 8 9]\n",
            "Reshaped into 2x5 array:\n",
            " [[0 1 2 3 4]\n",
            " [5 6 7 8 9]]\n",
            "Reshaped into 5x2 array:\n",
            " [[0 1]\n",
            " [2 3]\n",
            " [4 5]\n",
            " [6 7]\n",
            " [8 9]]\n"
          ]
        }
      ]
    },
    {
      "cell_type": "markdown",
      "source": [
        "Q3 Create a 4x4 NumPy array with random float values. Add a border of zeros around it, resulting in a 6x6 array?"
      ],
      "metadata": {
        "id": "PA2taXAb5VS7"
      }
    },
    {
      "cell_type": "code",
      "source": [
        "import numpy as np\n",
        "\n",
        "# Creating a 4x4 array with random float values\n",
        "array_4x4 = np.random.rand(4, 4)\n",
        "print(\"Original 4x4 array:\\n\", array_4x4)\n",
        "\n",
        "# Adding a border of zeros to create a 6x6 array\n",
        "array_6x6 = np.pad(array_4x4, pad_width=1, mode='constant', constant_values=0)\n",
        "print(\"6x6 array with border of zeros:\\n\", array_6x6)"
      ],
      "metadata": {
        "colab": {
          "base_uri": "https://localhost:8080/"
        },
        "id": "kXL9rElk5XPP",
        "outputId": "66e042a4-64cd-4702-fbf2-fa9b4834f675"
      },
      "execution_count": null,
      "outputs": [
        {
          "output_type": "stream",
          "name": "stdout",
          "text": [
            "Original 4x4 array:\n",
            " [[0.98468416 0.01953426 0.16436709 0.1012348 ]\n",
            " [0.09786272 0.7944711  0.98305087 0.91895122]\n",
            " [0.35855258 0.57345487 0.91021819 0.41573982]\n",
            " [0.67749053 0.87495456 0.41178658 0.65752078]]\n",
            "6x6 array with border of zeros:\n",
            " [[0.         0.         0.         0.         0.         0.        ]\n",
            " [0.         0.98468416 0.01953426 0.16436709 0.1012348  0.        ]\n",
            " [0.         0.09786272 0.7944711  0.98305087 0.91895122 0.        ]\n",
            " [0.         0.35855258 0.57345487 0.91021819 0.41573982 0.        ]\n",
            " [0.         0.67749053 0.87495456 0.41178658 0.65752078 0.        ]\n",
            " [0.         0.         0.         0.         0.         0.        ]]\n"
          ]
        }
      ]
    },
    {
      "cell_type": "markdown",
      "source": [
        "Q4 Using NumPy, create an array of integers from 10 to 60 with a step of 5?"
      ],
      "metadata": {
        "id": "OhPi6kvl7Swt"
      }
    },
    {
      "cell_type": "code",
      "source": [
        "import numpy as np\n",
        "\n",
        "# Creating the array\n",
        "array = np.arange(10, 65, 5)\n",
        "print(\"Array:\", array)"
      ],
      "metadata": {
        "colab": {
          "base_uri": "https://localhost:8080/"
        },
        "id": "VvF_thqV7nPp",
        "outputId": "ea8d4ccd-6e23-4f8a-d177-0f8a9300a1e0"
      },
      "execution_count": null,
      "outputs": [
        {
          "output_type": "stream",
          "name": "stdout",
          "text": [
            "Array: [10 15 20 25 30 35 40 45 50 55 60]\n"
          ]
        }
      ]
    },
    {
      "cell_type": "markdown",
      "source": [
        "Q5  Create a NumPy array of strings ['python', 'numpy', 'pandas']. Apply different case transformations\n",
        "(uppercase, lowercase, title case, etc.) to each element ?"
      ],
      "metadata": {
        "id": "Sw9ooyhy78uL"
      }
    },
    {
      "cell_type": "code",
      "source": [
        "import numpy as np\n",
        "\n",
        "# Creating a NumPy array of strings\n",
        "array = np.array(['python', 'numpy', 'pandas'])\n",
        "\n",
        "# Applying uppercase transformation\n",
        "uppercase_array = np.char.upper(array)\n",
        "print(\"Uppercase:\\n\", uppercase_array)\n",
        "\n",
        "# Applying lowercase transformation\n",
        "lowercase_array = np.char.lower(array)\n",
        "print(\"Lowercase:\\n\", lowercase_array)\n",
        "\n",
        "# Applying title case transformation\n",
        "titlecase_array = np.char.title(array)\n",
        "print(\"Title case:\\n\", titlecase_array)"
      ],
      "metadata": {
        "colab": {
          "base_uri": "https://localhost:8080/"
        },
        "id": "zbk-6TGT785y",
        "outputId": "f499314d-bd20-49ba-a1b1-85837cafd583"
      },
      "execution_count": null,
      "outputs": [
        {
          "output_type": "stream",
          "name": "stdout",
          "text": [
            "Uppercase:\n",
            " ['PYTHON' 'NUMPY' 'PANDAS']\n",
            "Lowercase:\n",
            " ['python' 'numpy' 'pandas']\n",
            "Title case:\n",
            " ['Python' 'Numpy' 'Pandas']\n"
          ]
        }
      ]
    },
    {
      "cell_type": "markdown",
      "source": [
        "Q6 Generate a NumPy array of words. Insert a space between each character of every word in the array?"
      ],
      "metadata": {
        "id": "MpBdnzeP8GnZ"
      }
    },
    {
      "cell_type": "code",
      "source": [
        "import numpy as np\n",
        "\n",
        "# Creating a NumPy array of words\n",
        "words = np.array(['python', 'numpy', 'pandas'])\n",
        "\n",
        "# Inserting a space between each character of every word\n",
        "spaced_words = np.char.join(\" \", words)\n",
        "print(\"Original words:\\n\", words)\n",
        "print(\"Words with spaces between characters:\\n\", spaced_words)"
      ],
      "metadata": {
        "colab": {
          "base_uri": "https://localhost:8080/"
        },
        "id": "_DcfXPrH8IM9",
        "outputId": "99ca242a-6e65-48b1-d2be-b5978df4c697"
      },
      "execution_count": null,
      "outputs": [
        {
          "output_type": "stream",
          "name": "stdout",
          "text": [
            "Original words:\n",
            " ['python' 'numpy' 'pandas']\n",
            "Words with spaces between characters:\n",
            " ['p y t h o n' 'n u m p y' 'p a n d a s']\n"
          ]
        }
      ]
    },
    {
      "cell_type": "markdown",
      "source": [
        "Q7  Create two 2D NumPy arrays and perform element-wise addition, subtraction, multiplication, and division?"
      ],
      "metadata": {
        "id": "kLekPr5w8Yha"
      }
    },
    {
      "cell_type": "code",
      "source": [
        "import numpy as np\n",
        "\n",
        "# Creating two 2D arrays\n",
        "array1 = np.array([[1, 2, 3], [4, 5, 6]])\n",
        "array2 = np.array([[7, 8, 9], [10, 11, 12]])\n",
        "\n",
        "# Element-wise addition\n",
        "addition = np.add(array1, array2)\n",
        "print(\"Element-wise addition:\\n\", addition)\n",
        "\n",
        "# Element-wise subtraction\n",
        "subtraction = np.subtract(array1, array2)\n",
        "print(\"Element-wise subtraction:\\n\", subtraction)\n",
        "\n",
        "# Element-wise multiplication\n",
        "multiplication = np.multiply(array1, array2)\n",
        "print(\"Element-wise multiplication:\\n\", multiplication)\n",
        "\n",
        "# Element-wise division\n",
        "division = np.divide(array1, array2)\n",
        "print(\"Element-wise division:\\n\", division)"
      ],
      "metadata": {
        "colab": {
          "base_uri": "https://localhost:8080/"
        },
        "id": "MUVa52pF8aAp",
        "outputId": "86982608-e36b-4c35-8e2a-8c579a6e6032"
      },
      "execution_count": null,
      "outputs": [
        {
          "output_type": "stream",
          "name": "stdout",
          "text": [
            "Element-wise addition:\n",
            " [[ 8 10 12]\n",
            " [14 16 18]]\n",
            "Element-wise subtraction:\n",
            " [[-6 -6 -6]\n",
            " [-6 -6 -6]]\n",
            "Element-wise multiplication:\n",
            " [[ 7 16 27]\n",
            " [40 55 72]]\n",
            "Element-wise division:\n",
            " [[0.14285714 0.25       0.33333333]\n",
            " [0.4        0.45454545 0.5       ]]\n"
          ]
        }
      ]
    },
    {
      "cell_type": "markdown",
      "source": [
        "Q8  Use NumPy to create a 5x5 identity matrix, then extract its diagonal elements?"
      ],
      "metadata": {
        "id": "v1aIfiGS8xH-"
      }
    },
    {
      "cell_type": "code",
      "source": [
        "import numpy as np\n",
        "\n",
        "# Creating a 5x5 identity matrix\n",
        "identity_matrix = np.identity(5)\n",
        "print(\"5x5 Identity Matrix:\\n\", identity_matrix)\n",
        "\n",
        "# Extracting the diagonal elements\n",
        "diagonal_elements = np.diag(identity_matrix)\n",
        "print(\"Diagonal Elements:\\n\", diagonal_elements)"
      ],
      "metadata": {
        "colab": {
          "base_uri": "https://localhost:8080/"
        },
        "id": "OAWLoLzv8ylD",
        "outputId": "2db18875-fb68-4131-9928-c538c2e93322"
      },
      "execution_count": null,
      "outputs": [
        {
          "output_type": "stream",
          "name": "stdout",
          "text": [
            "5x5 Identity Matrix:\n",
            " [[1. 0. 0. 0. 0.]\n",
            " [0. 1. 0. 0. 0.]\n",
            " [0. 0. 1. 0. 0.]\n",
            " [0. 0. 0. 1. 0.]\n",
            " [0. 0. 0. 0. 1.]]\n",
            "Diagonal Elements:\n",
            " [1. 1. 1. 1. 1.]\n"
          ]
        }
      ]
    },
    {
      "cell_type": "markdown",
      "source": [
        "Q9  Generate a NumPy array of 100 random integers between 0 and 1000. Find and display all prime numbers in\n",
        "this array?"
      ],
      "metadata": {
        "id": "wnz8pPk_9D2I"
      }
    },
    {
      "cell_type": "code",
      "source": [
        "import numpy as np\n",
        "\n",
        "# Function to check if a number is prime\n",
        "def is_prime(n):\n",
        "    if n <= 1:\n",
        "        return False\n",
        "    for i in range(2, int(np.sqrt(n)) + 1):\n",
        "        if n % i == 0:\n",
        "            return False\n",
        "    return True\n",
        "\n",
        "# Generating a NumPy array of 100 random integers between 0 and 1000\n",
        "random_array = np.random.randint(0, 1001, size=100)\n",
        "print(\"Random Array:\\n\", random_array)\n",
        "\n",
        "# Finding all prime numbers in the array\n",
        "prime_numbers = [num for num in random_array if is_prime(num)]\n",
        "print(\"Prime Numbers:\\n\", prime_numbers)"
      ],
      "metadata": {
        "colab": {
          "base_uri": "https://localhost:8080/"
        },
        "id": "kN-ZUNPf9GM2",
        "outputId": "bf876734-8d37-4863-b4c9-80c6bc7de85b"
      },
      "execution_count": null,
      "outputs": [
        {
          "output_type": "stream",
          "name": "stdout",
          "text": [
            "Random Array:\n",
            " [913 820  64 299 367 380 553 885  89 130 910 986  29 417 388 491 215 543\n",
            " 285 335 100 359  25 454 388 232 707 435 290 228 792 389 706 203  35 288\n",
            " 956 951 245 581 670 195 555 271 387 547  36 810 828 528 698 574 231 822\n",
            " 704 160 212 883 986 229 614 183  98 217 800 766 542 315  89 713 494 879\n",
            "  31 454 909 417 429 233 995 413 246 676 800 294 502 475 514 436 410  27\n",
            " 194 745 252 317 940 782 949 889 610 290]\n",
            "Prime Numbers:\n",
            " [367, 89, 29, 491, 359, 389, 271, 547, 883, 229, 89, 31, 233, 317]\n"
          ]
        }
      ]
    },
    {
      "cell_type": "markdown",
      "source": [
        "Q10  Create a NumPy array representing daily temperatures for a month. Calculate and display the weekly\n",
        "averages?"
      ],
      "metadata": {
        "id": "ohvPm43g9UPm"
      }
    },
    {
      "cell_type": "code",
      "source": [
        "import numpy as np\n",
        "\n",
        "# Generating a NumPy array of daily temperatures for a month (30 days)\n",
        "daily_temperatures = np.random.randint(20, 40, size=30)  # Random temperatures between 20 and 40 degrees\n",
        "print(\"Daily Temperatures:\\n\", daily_temperatures)\n",
        "\n",
        "# Reshaping the array to represent weeks (4 weeks, 7 days each, plus 2 extra days)\n",
        "weeks = daily_temperatures[:28].reshape(4, 7)\n",
        "extra_days = daily_temperatures[28:]\n",
        "\n",
        "# Calculating weekly averages\n",
        "weekly_averages = np.mean(weeks, axis=1)\n",
        "print(\"Weekly Averages:\\n\", weekly_averages)\n",
        "\n",
        "# Handling the extra days (if any)\n",
        "if extra_days.size > 0:\n",
        "    extra_days_average = np.mean(extra_days)\n",
        "    print(\"Average of extra days:\\n\", extra_days_average)"
      ],
      "metadata": {
        "colab": {
          "base_uri": "https://localhost:8080/"
        },
        "id": "uqzZ3k_z9Wwv",
        "outputId": "a601b7d6-e7de-417a-b10b-666f652d2633"
      },
      "execution_count": null,
      "outputs": [
        {
          "output_type": "stream",
          "name": "stdout",
          "text": [
            "Daily Temperatures:\n",
            " [29 36 37 30 21 21 22 34 23 21 24 25 20 28 39 29 34 24 23 36 35 36 35 29\n",
            " 32 23 28 25 38 35]\n",
            "Weekly Averages:\n",
            " [28.         25.         31.42857143 29.71428571]\n",
            "Average of extra days:\n",
            " 36.5\n"
          ]
        }
      ]
    }
  ]
}